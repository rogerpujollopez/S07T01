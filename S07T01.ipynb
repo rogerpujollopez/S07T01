{
 "cells": [
  {
   "cell_type": "markdown",
   "id": "19b68893",
   "metadata": {},
   "source": [
    "# S07 T01: Tasca del test d'hipòtesis"
   ]
  },
  {
   "cell_type": "markdown",
   "id": "8cd58a5a",
   "metadata": {},
   "source": [
    "## Descripció"
   ]
  },
  {
   "cell_type": "markdown",
   "id": "ec7da70e",
   "metadata": {},
   "source": [
    "#### Aprèn a realitzar test d'hipòtesis amb Python"
   ]
  },
  {
   "cell_type": "markdown",
   "id": "7ff33048",
   "metadata": {},
   "source": [
    "### Exercici 1"
   ]
  },
  {
   "cell_type": "markdown",
   "id": "d777ac70",
   "metadata": {},
   "source": [
    "#### Agafa un conjunt de dades de tema esportiu que t'agradi i selecciona un atribut del conjunt de dades. Calcula el p-valor i digues si rebutja la hipòtesi nul·la agafant un alfa de 5%. "
   ]
  },
  {
   "cell_type": "markdown",
   "id": "ed37136d",
   "metadata": {},
   "source": [
    "#### Importem llibreries"
   ]
  },
  {
   "cell_type": "code",
   "execution_count": 30,
   "id": "027f31bd",
   "metadata": {},
   "outputs": [],
   "source": [
    "import urllib\n",
    "import numpy as np\n",
    "import pandas as pd\n",
    "import matplotlib.pyplot as plt\n",
    "import seaborn as sns\n",
    "import statistics\n",
    "from statistics import mode\n",
    "from statsmodels.stats.weightstats import ztest as ztest\n",
    "import scipy.stats as stats"
   ]
  },
  {
   "cell_type": "markdown",
   "id": "04950a16",
   "metadata": {},
   "source": [
    "#### Carreguem les dades del dataset"
   ]
  },
  {
   "cell_type": "code",
   "execution_count": 184,
   "id": "74cbc890",
   "metadata": {},
   "outputs": [
    {
     "name": "stdout",
     "output_type": "stream",
     "text": [
      "WARNING *** OLE2 inconsistency: SSCS size is 0 but SSAT size is non-zero\n"
     ]
    },
    {
     "data": {
      "text/html": [
       "<div>\n",
       "<style scoped>\n",
       "    .dataframe tbody tr th:only-of-type {\n",
       "        vertical-align: middle;\n",
       "    }\n",
       "\n",
       "    .dataframe tbody tr th {\n",
       "        vertical-align: top;\n",
       "    }\n",
       "\n",
       "    .dataframe thead th {\n",
       "        text-align: right;\n",
       "    }\n",
       "</style>\n",
       "<table border=\"1\" class=\"dataframe\">\n",
       "  <thead>\n",
       "    <tr style=\"text-align: right;\">\n",
       "      <th></th>\n",
       "      <th>Fe_Al</th>\n",
       "      <th>ID_Ses</th>\n",
       "      <th>ID_Us</th>\n",
       "      <th>ID_Neg</th>\n",
       "      <th>ID_Emp</th>\n",
       "      <th>ID_Cont</th>\n",
       "      <th>EsCli</th>\n",
       "      <th>EsTrabajador</th>\n",
       "      <th>EsProv</th>\n",
       "      <th>EsAdm</th>\n",
       "      <th>...</th>\n",
       "      <th>ID_Apa</th>\n",
       "      <th>ID_Aci</th>\n",
       "      <th>EsSet</th>\n",
       "      <th>ID_App</th>\n",
       "      <th>EsGlobal</th>\n",
       "      <th>ErrVali</th>\n",
       "      <th>ID_TrafI</th>\n",
       "      <th>Hora</th>\n",
       "      <th>SinDat</th>\n",
       "      <th>Test</th>\n",
       "    </tr>\n",
       "    <tr>\n",
       "      <th>ID_TrafO</th>\n",
       "      <th></th>\n",
       "      <th></th>\n",
       "      <th></th>\n",
       "      <th></th>\n",
       "      <th></th>\n",
       "      <th></th>\n",
       "      <th></th>\n",
       "      <th></th>\n",
       "      <th></th>\n",
       "      <th></th>\n",
       "      <th></th>\n",
       "      <th></th>\n",
       "      <th></th>\n",
       "      <th></th>\n",
       "      <th></th>\n",
       "      <th></th>\n",
       "      <th></th>\n",
       "      <th></th>\n",
       "      <th></th>\n",
       "      <th></th>\n",
       "      <th></th>\n",
       "    </tr>\n",
       "  </thead>\n",
       "  <tbody>\n",
       "    <tr>\n",
       "      <th>84495</th>\n",
       "      <td>2022-05-31 07:03:25.420000000</td>\n",
       "      <td>0</td>\n",
       "      <td>0</td>\n",
       "      <td>80</td>\n",
       "      <td>0</td>\n",
       "      <td>0</td>\n",
       "      <td>0</td>\n",
       "      <td>-1</td>\n",
       "      <td>0</td>\n",
       "      <td>0</td>\n",
       "      <td>...</td>\n",
       "      <td>11</td>\n",
       "      <td>3448</td>\n",
       "      <td>0</td>\n",
       "      <td>4</td>\n",
       "      <td>-1</td>\n",
       "      <td>0</td>\n",
       "      <td>84497</td>\n",
       "      <td>7</td>\n",
       "      <td>0</td>\n",
       "      <td>0</td>\n",
       "    </tr>\n",
       "    <tr>\n",
       "      <th>84529</th>\n",
       "      <td>2022-05-31 07:03:35.553000000</td>\n",
       "      <td>0</td>\n",
       "      <td>0</td>\n",
       "      <td>80</td>\n",
       "      <td>0</td>\n",
       "      <td>0</td>\n",
       "      <td>0</td>\n",
       "      <td>-1</td>\n",
       "      <td>0</td>\n",
       "      <td>0</td>\n",
       "      <td>...</td>\n",
       "      <td>448</td>\n",
       "      <td>3454</td>\n",
       "      <td>0</td>\n",
       "      <td>4</td>\n",
       "      <td>-1</td>\n",
       "      <td>0</td>\n",
       "      <td>84530</td>\n",
       "      <td>7</td>\n",
       "      <td>0</td>\n",
       "      <td>0</td>\n",
       "    </tr>\n",
       "    <tr>\n",
       "      <th>87842</th>\n",
       "      <td>2022-05-31 07:19:55.297000000</td>\n",
       "      <td>3891718</td>\n",
       "      <td>10880</td>\n",
       "      <td>40</td>\n",
       "      <td>0</td>\n",
       "      <td>0</td>\n",
       "      <td>0</td>\n",
       "      <td>-1</td>\n",
       "      <td>0</td>\n",
       "      <td>-1</td>\n",
       "      <td>...</td>\n",
       "      <td>34</td>\n",
       "      <td>80</td>\n",
       "      <td>0</td>\n",
       "      <td>1</td>\n",
       "      <td>0</td>\n",
       "      <td>0</td>\n",
       "      <td>87838</td>\n",
       "      <td>7</td>\n",
       "      <td>0</td>\n",
       "      <td>0</td>\n",
       "    </tr>\n",
       "    <tr>\n",
       "      <th>87854</th>\n",
       "      <td>2022-05-31 07:19:59.003000000</td>\n",
       "      <td>3891718</td>\n",
       "      <td>10880</td>\n",
       "      <td>40</td>\n",
       "      <td>0</td>\n",
       "      <td>0</td>\n",
       "      <td>0</td>\n",
       "      <td>-1</td>\n",
       "      <td>0</td>\n",
       "      <td>-1</td>\n",
       "      <td>...</td>\n",
       "      <td>153</td>\n",
       "      <td>858</td>\n",
       "      <td>0</td>\n",
       "      <td>1</td>\n",
       "      <td>0</td>\n",
       "      <td>0</td>\n",
       "      <td>87855</td>\n",
       "      <td>7</td>\n",
       "      <td>0</td>\n",
       "      <td>0</td>\n",
       "    </tr>\n",
       "    <tr>\n",
       "      <th>102126</th>\n",
       "      <td>2022-05-31 08:30:39.293000000</td>\n",
       "      <td>3891888</td>\n",
       "      <td>6641</td>\n",
       "      <td>55</td>\n",
       "      <td>0</td>\n",
       "      <td>0</td>\n",
       "      <td>0</td>\n",
       "      <td>-1</td>\n",
       "      <td>0</td>\n",
       "      <td>0</td>\n",
       "      <td>...</td>\n",
       "      <td>65</td>\n",
       "      <td>258</td>\n",
       "      <td>0</td>\n",
       "      <td>1</td>\n",
       "      <td>0</td>\n",
       "      <td>0</td>\n",
       "      <td>102127</td>\n",
       "      <td>8</td>\n",
       "      <td>0</td>\n",
       "      <td>0</td>\n",
       "    </tr>\n",
       "  </tbody>\n",
       "</table>\n",
       "<p>5 rows × 30 columns</p>\n",
       "</div>"
      ],
      "text/plain": [
       "                                  Fe_Al   ID_Ses  ID_Us  ID_Neg  ID_Emp  \\\n",
       "ID_TrafO                                                                  \n",
       "84495     2022-05-31 07:03:25.420000000        0      0      80       0   \n",
       "84529     2022-05-31 07:03:35.553000000        0      0      80       0   \n",
       "87842     2022-05-31 07:19:55.297000000  3891718  10880      40       0   \n",
       "87854     2022-05-31 07:19:59.003000000  3891718  10880      40       0   \n",
       "102126    2022-05-31 08:30:39.293000000  3891888   6641      55       0   \n",
       "\n",
       "          ID_Cont  EsCli  EsTrabajador  EsProv  EsAdm  ...  ID_Apa  ID_Aci  \\\n",
       "ID_TrafO                                               ...                   \n",
       "84495           0      0            -1       0      0  ...      11    3448   \n",
       "84529           0      0            -1       0      0  ...     448    3454   \n",
       "87842           0      0            -1       0     -1  ...      34      80   \n",
       "87854           0      0            -1       0     -1  ...     153     858   \n",
       "102126          0      0            -1       0      0  ...      65     258   \n",
       "\n",
       "          EsSet  ID_App  EsGlobal  ErrVali ID_TrafI  Hora  SinDat  Test  \n",
       "ID_TrafO                                                                 \n",
       "84495         0       4        -1        0    84497     7       0     0  \n",
       "84529         0       4        -1        0    84530     7       0     0  \n",
       "87842         0       1         0        0    87838     7       0     0  \n",
       "87854         0       1         0        0    87855     7       0     0  \n",
       "102126        0       1         0        0   102127     8       0     0  \n",
       "\n",
       "[5 rows x 30 columns]"
      ]
     },
     "execution_count": 184,
     "metadata": {},
     "output_type": "execute_result"
    }
   ],
   "source": [
    "traf=pd.read_excel('datatrafico.xls', index_col=0)\n",
    "traf.head()"
   ]
  },
  {
   "cell_type": "markdown",
   "id": "859a5f5e",
   "metadata": {},
   "source": [
    "#### Descripción de les columnes"
   ]
  },
  {
   "cell_type": "code",
   "execution_count": 185,
   "id": "b74c31ab",
   "metadata": {},
   "outputs": [
    {
     "name": "stdout",
     "output_type": "stream",
     "text": [
      "['Fe_Al', 'ID_Ses', 'ID_Us', 'ID_Neg', 'ID_Emp', 'ID_Cont', 'EsCli', 'EsTrabajador', 'EsProv', 'EsAdm', 'EsAgente', 'EsTecnico', 'Durada', 'BytesI', 'BytesO', 'BytesOsl', 'IP', 'ID_Idi', 'IsPost', 'ID_Modulo', 'ID_Apa', 'ID_Aci', 'EsSet', 'ID_App', 'EsGlobal', 'ErrVali', 'ID_TrafI', 'Hora', 'SinDat', 'Test']\n"
     ]
    }
   ],
   "source": [
    "print(traf.columns.tolist())"
   ]
  },
  {
   "cell_type": "markdown",
   "id": "ea55d811",
   "metadata": {},
   "source": [
    "- Fe_Al: Data i hora de la petició\n",
    "- ID_Ses: Nº de sessió. El nº de sessió nomes es fa servir per acces vía web\n",
    "- ID_Us: Indica l'usuari, en cas que estigui registrat\n",
    "- ID_Neg: Identifica el negoci des del que s'ha fet la petició\n",
    "- ID_Emp: Idenfitica la empresa que ha fet la petició\n",
    "- ID_Cont: Indenfitica el contacte que ha fet la petició\n",
    "- EsCli: Indica si le empresa es client\n",
    "- EsTrabajador: Indica si el usuari es treballador del negoci\n",
    "- EsProv: Indica si le empresa es un proveïdor\n",
    "- EsAdm: Indica si l'usuari que ha fet la petició ho ha fet com administrador\n",
    "- EsAgente: Indica si l'usuari que ha fet la petició ho ha fet com agent\n",
    "- EsTecnico: Indica si l'usuari que ha fet la petició ho ha fet com a tecnic\n",
    "- Durada: Durada en milisegons del temps que ha tardar en retorna la petició el servidor\n",
    "- BytesI: nº de bytes que s'han enviat al servidor per fer la petició\n",
    "- BytesO: nº de bytes que s'han retornat del servidor a la petició que ha fet l'usuari\n",
    "- BytesOsl: nº de bytes que s'han retornat del servidor a la petició que ha fet l'usuari menys la longitud de la url\n",
    "- IP: IP des d'on ha vingut la petició\n",
    "- ID_Idi: Identificador de l'idioma\n",
    "- IsPost: 0 es Get i 1 es Post, per detectar les peticions de lectura i escriptura\n",
    "- ID_Modulo: Identifica el modul al que pertany aquesta petició\n",
    "- ID_Apa: Identifica el apartat del modul al que pertany aquesta petició\n",
    "- ID_Aci: Identifica el tipus de petició\n",
    "- EsSet: Identifica si la petició es de consulta o de gravació de dades\n",
    "- ID_App: Identifica des de quina aplicació s'ha fer la petició\n",
    "- EsGlobal: Indica si la petició es Global\n",
    "- ErrVali: Identifica si hi ha hagut un error de validació\n",
    "- ID_TrafI: Identificador per vincular les dades amb un altre taula\n",
    "- Hora: Valor enter amb l'hora de la petició\n",
    "- SinDat: Petició sense dades\n",
    "- Test: Indica si la petició es va fer dins d'un entorn de prova\n"
   ]
  },
  {
   "cell_type": "code",
   "execution_count": 186,
   "id": "b1263868",
   "metadata": {},
   "outputs": [
    {
     "name": "stdout",
     "output_type": "stream",
     "text": [
      "Nº de registres: 22418\n",
      "Tipus de dades de les columnes:\n",
      "Fe_Al            object\n",
      "ID_Ses            int64\n",
      "ID_Us             int64\n",
      "ID_Neg            int64\n",
      "ID_Emp            int64\n",
      "ID_Cont           int64\n",
      "EsCli             int64\n",
      "EsTrabajador      int64\n",
      "EsProv            int64\n",
      "EsAdm             int64\n",
      "EsAgente          int64\n",
      "EsTecnico         int64\n",
      "Durada          float64\n",
      "BytesI            int64\n",
      "BytesO            int64\n",
      "BytesOsl          int64\n",
      "IP               object\n",
      "ID_Idi            int64\n",
      "IsPost            int64\n",
      "ID_Modulo         int64\n",
      "ID_Apa            int64\n",
      "ID_Aci            int64\n",
      "EsSet             int64\n",
      "ID_App            int64\n",
      "EsGlobal          int64\n",
      "ErrVali           int64\n",
      "ID_TrafI          int64\n",
      "Hora              int64\n",
      "SinDat            int64\n",
      "Test              int64\n",
      "dtype: object\n"
     ]
    }
   ],
   "source": [
    "print(\"Nº de registres: \" + str(len(traf)))\n",
    "print(\"Tipus de dades de les columnes:\\n\" + str(traf.dtypes))"
   ]
  },
  {
   "cell_type": "markdown",
   "id": "405155cc",
   "metadata": {},
   "source": [
    "#### Redefinim el tipus de columna al que li correspont per l'origen de les dades"
   ]
  },
  {
   "cell_type": "code",
   "execution_count": 187,
   "id": "f5b3351a",
   "metadata": {},
   "outputs": [
    {
     "name": "stdout",
     "output_type": "stream",
     "text": [
      "Tipus de dades de les columnes canviades:\n",
      "Fe_Al           datetime64[ns]\n",
      "ID_Ses                   int64\n",
      "ID_Us                    int64\n",
      "ID_Neg                   int64\n",
      "ID_Emp                   int64\n",
      "ID_Cont                  int64\n",
      "EsCli                     bool\n",
      "EsTrabajador              bool\n",
      "EsProv                    bool\n",
      "EsAdm                     bool\n",
      "EsAgente                  bool\n",
      "EsTecnico                 bool\n",
      "Durada                 float64\n",
      "BytesI                   int64\n",
      "BytesO                   int64\n",
      "BytesOsl                 int64\n",
      "IP                      string\n",
      "ID_Idi                   int64\n",
      "IsPost                    bool\n",
      "ID_Modulo                int64\n",
      "ID_Apa                   int64\n",
      "ID_Aci                   int64\n",
      "EsSet                     bool\n",
      "ID_App                   int64\n",
      "EsGlobal                  bool\n",
      "ErrVali                   bool\n",
      "ID_TrafI                 int64\n",
      "Hora                     int64\n",
      "SinDat                    bool\n",
      "Test                      bool\n",
      "dtype: object\n"
     ]
    }
   ],
   "source": [
    "traf['EsCli'] = traf['EsCli'].astype(bool)\n",
    "traf['EsTrabajador'] = traf['EsTrabajador'].astype(bool)\n",
    "traf['EsProv'] = traf['EsProv'].astype(bool)\n",
    "traf['EsAdm'] = traf['EsAdm'].astype(bool)\n",
    "traf['EsAgente'] = traf['EsAgente'].astype(bool)\n",
    "traf['EsTecnico'] = traf['EsTecnico'].astype(bool)\n",
    "traf['IsPost'] = traf['IsPost'].astype(bool)\n",
    "traf['EsSet'] = traf['EsSet'].astype(bool)\n",
    "traf['EsGlobal'] = traf['EsGlobal'].astype(bool)\n",
    "traf['ErrVali'] = traf['ErrVali'].astype(bool)\n",
    "traf['SinDat'] = traf['SinDat'].astype(bool)\n",
    "traf['Test'] = traf['Test'].astype(bool)\n",
    "traf['IP'] = traf['IP'].astype('string')\n",
    "traf['Fe_Al']= pd.to_datetime(traf['Fe_Al'])\n",
    "print(\"Tipus de dades de les columnes canviades:\\n\" + str(traf.dtypes))"
   ]
  },
  {
   "cell_type": "markdown",
   "id": "0c89344e",
   "metadata": {},
   "source": [
    "#### Revisem els valors nulls de les columnes"
   ]
  },
  {
   "cell_type": "code",
   "execution_count": 188,
   "id": "8eb48563",
   "metadata": {},
   "outputs": [
    {
     "data": {
      "text/plain": [
       "Fe_Al              0\n",
       "ID_Ses             0\n",
       "ID_Us              0\n",
       "ID_Neg             0\n",
       "ID_Emp             0\n",
       "ID_Cont            0\n",
       "EsCli              0\n",
       "EsTrabajador       0\n",
       "EsProv             0\n",
       "EsAdm              0\n",
       "EsAgente           0\n",
       "EsTecnico          0\n",
       "Durada             0\n",
       "BytesI             0\n",
       "BytesO             0\n",
       "BytesOsl           0\n",
       "IP              1294\n",
       "ID_Idi             0\n",
       "IsPost             0\n",
       "ID_Modulo          0\n",
       "ID_Apa             0\n",
       "ID_Aci             0\n",
       "EsSet              0\n",
       "ID_App             0\n",
       "EsGlobal           0\n",
       "ErrVali            0\n",
       "ID_TrafI           0\n",
       "Hora               0\n",
       "SinDat             0\n",
       "Test               0\n",
       "dtype: int64"
      ]
     },
     "execution_count": 188,
     "metadata": {},
     "output_type": "execute_result"
    }
   ],
   "source": [
    "traf.isnull().sum()"
   ]
  },
  {
   "cell_type": "markdown",
   "id": "fbd5301d",
   "metadata": {},
   "source": [
    "#### Conclusió: Veiem que hi ha algun valor null al camp IP, però en aquest exercici no farem servir aquest camp, així que el deixem"
   ]
  },
  {
   "cell_type": "markdown",
   "id": "03ecc8a6",
   "metadata": {},
   "source": [
    "#### H0 : La hipotesis nula es que el promig de la durada de les peticions del negoci 70 es menor que el promig de tots els altres negocis"
   ]
  },
  {
   "cell_type": "markdown",
   "id": "8bbb5dd0",
   "metadata": {},
   "source": [
    "#### H1 : La hipòtesis alternativa es que el promig de la durada de les peticions del negoci 70 son majors o iguals que el promig de tots els altres negocis"
   ]
  },
  {
   "cell_type": "markdown",
   "id": "5323bbfb",
   "metadata": {},
   "source": [
    "#### Preparem el dataset que volem fer servir. "
   ]
  },
  {
   "cell_type": "code",
   "execution_count": 189,
   "id": "ad2f94bf",
   "metadata": {},
   "outputs": [
    {
     "name": "stdout",
     "output_type": "stream",
     "text": [
      "            ID_Neg        Durada        BytesO         BytesI         Hora\n",
      "count  7974.000000   7974.000000  7.974000e+03    7974.000000  7974.000000\n",
      "mean     60.397793    247.706642  7.186016e+03    1193.700025    13.165789\n",
      "std      17.089689    660.361109  1.258051e+05   12579.707537     3.315903\n",
      "min       0.000000      0.498400  4.770000e+02     662.000000     6.000000\n",
      "25%      55.000000     72.737075  8.370000e+02     801.000000    10.000000\n",
      "50%      55.000000    161.383450  1.618000e+03     838.000000    12.000000\n",
      "75%      80.000000    279.746650  2.970000e+03     946.000000    16.000000\n",
      "max      80.000000  28143.897500  1.046741e+07  929113.000000    21.000000\n",
      "        ID_Neg        Durada         BytesO         BytesI          Hora\n",
      "count  14444.0  14444.000000   14444.000000   14444.000000  14444.000000\n",
      "mean      70.0    459.763105    6165.480961    1227.444614     12.547078\n",
      "std        0.0   1291.619112   11427.442261   11385.989792      3.138862\n",
      "min       70.0      0.047400     734.000000     710.000000      8.000000\n",
      "25%       70.0    201.482750    1378.000000     813.750000     10.000000\n",
      "50%       70.0    303.057850    2410.000000     844.000000     12.000000\n",
      "75%       70.0    497.948450    6368.000000     901.000000     16.000000\n",
      "max       70.0  65471.039200  415363.000000  550870.000000     20.000000\n"
     ]
    }
   ],
   "source": [
    "traf2=traf[['ID_Neg','Durada','BytesO','BytesI','Hora']]\n",
    "altres_negocis = traf2[traf2['ID_Neg'] != 70]\n",
    "print(altres_negocis.describe())\n",
    "negoci = traf2[traf2['ID_Neg'] == 70]\n",
    "print(negoci.describe())"
   ]
  },
  {
   "cell_type": "markdown",
   "id": "7df1543e",
   "metadata": {},
   "source": [
    "#### Per dicidir quin tipus de prova fer, primer tenim que saber si la distribució de les dades es normal o no"
   ]
  },
  {
   "cell_type": "markdown",
   "id": "7d80796a",
   "metadata": {},
   "source": [
    "#### Fem servir la prova de Shapiro-Wilk, que prova la hipòtesis nula de que les dades segueixen una distribució normal (https://docs.scipy.org/doc/scipy/reference/generated/scipy.stats.shapiro.html) "
   ]
  },
  {
   "cell_type": "code",
   "execution_count": 229,
   "id": "b68118a2",
   "metadata": {},
   "outputs": [
    {
     "name": "stdout",
     "output_type": "stream",
     "text": [
      "El valor p es: 0.0\n",
      "La mostra no es normal (o Gaussiana), es refusa la hipòtesis nula H0. Les dades no es distribueixen normalment.\n"
     ]
    }
   ],
   "source": [
    "from scipy.stats import shapiro\n",
    "\n",
    "stat, p_valor = shapiro(traf2['Durada'].sample(n=5000, random_state=42)) # La prova te un limit de mostres, així que agafem 5000 registres\n",
    "print(\"El valor p es: \" + str(p_valor))\n",
    "\n",
    "alfa = 0.05\n",
    "if p_valor < alfa:\n",
    "   print('La mostra no es normal (o Gaussiana), es refusa la hipòtesis nula H0. Les dades no es distribueixen normalment.')\n",
    "else:\n",
    "   print('La mostra sembla normal (o Gaussiana), no es refusa la hipótesis nula H0. Los dades es distribueixen normalment.')\n",
    "\n"
   ]
  },
  {
   "cell_type": "markdown",
   "id": "53557ec2",
   "metadata": {},
   "source": [
    "#### Com que la distribució no es normal, fem servir la prova Wilcoxon, que permet fer proves d'hipòtesis amb una mostra no paramètrica"
   ]
  },
  {
   "cell_type": "code",
   "execution_count": 230,
   "id": "93f2ea97",
   "metadata": {},
   "outputs": [
    {
     "name": "stdout",
     "output_type": "stream",
     "text": [
      "El valor p es 0.0\n",
      "No podem refusar la hipótesis nula amb un nivell de confiança del 95%\n"
     ]
    }
   ],
   "source": [
    "from scipy.stats import wilcoxon\n",
    "\n",
    "stat, p_valor = wilcoxon(negoci['Durada'] - altres_negocis.Durada.mean(),alternative = 'greater')\n",
    "print(\"El valor p es \" + str(p_valor))\n",
    "alfa = 0.05\n",
    "if p_valor < alfa:\n",
    "    print('No podem refusar la hipótesis nula amb un nivell de confiança del 95%')\n",
    "else:\n",
    "    print('Refusem la hipótesis nula amb un nivell de confiança del 95%, acceptem la hipòtesis alternativa')\n"
   ]
  },
  {
   "cell_type": "markdown",
   "id": "52382960",
   "metadata": {},
   "source": [
    "#### Ara representarem la forma de les dades dels dos grups, td_neg (Negocio 70) i td_alneg (Altres negocis)"
   ]
  },
  {
   "cell_type": "code",
   "execution_count": 231,
   "id": "6256214b",
   "metadata": {
    "scrolled": true
   },
   "outputs": [
    {
     "data": {
      "image/png": "[encoded data removed]",
      "text/plain": [
       "<Figure size 720x504 with 1 Axes>"
      ]
     },
     "metadata": {
      "needs_background": "light"
     },
     "output_type": "display_data"
    }
   ],
   "source": [
    "td_neg=negoci.loc[negoci['Durada'] <= 5000]\n",
    "td_alneg=altres_negocis.loc[altres_negocis['Durada'] <= 5000]\n",
    "plt.figure(figsize= (10,7))\n",
    "sns.kdeplot(td_neg['Durada'], label= 'var', color= '#4cf163', fill = True)\n",
    "sns.kdeplot(td_alneg['Durada'], label= 'var', color= 'green', fill = True)\n",
    "plt.show()"
   ]
  },
  {
   "cell_type": "markdown",
   "id": "c2e683a0",
   "metadata": {},
   "source": [
    "#### Tipo de distribuciones, https://www.itl.nist.gov/div898/handbook/eda/section3/eda366.htm\n"
   ]
  },
  {
   "cell_type": "markdown",
   "id": "fa477109",
   "metadata": {},
   "source": [
    "### Exercici 2"
   ]
  },
  {
   "cell_type": "markdown",
   "id": "1cd3a18f",
   "metadata": {},
   "source": [
    "#### Continua amb el conjunt de dades de tema esportiu que t'agradi i selecciona dos altres atributs del conjunt de dades. Calcula els p-valors i digues si rebutgen la hipòtesi nul·la agafant un alfa de 5%"
   ]
  },
  {
   "cell_type": "markdown",
   "id": "c83f08e5",
   "metadata": {},
   "source": [
    "#### Ara volem provar que la durada de les peticions del mati i de la tarda son diferents, així compararem la durada per veure su hi ha una diferencia significativa."
   ]
  },
  {
   "cell_type": "markdown",
   "id": "68e57009",
   "metadata": {},
   "source": [
    "#### Afagirem un camp nou al dataset per dividir el dia entre mati i tarda. Agafarem de 2h a 14h com a mati, i de 14h a 2h com a tarda"
   ]
  },
  {
   "cell_type": "code",
   "execution_count": 234,
   "id": "48ea7818",
   "metadata": {},
   "outputs": [],
   "source": [
    "traf['Mati'] = np.where((traf['Hora']>2) & (traf['Hora']<=14), True, False)"
   ]
  },
  {
   "cell_type": "markdown",
   "id": "1df52000",
   "metadata": {},
   "source": [
    "#### Generem el grup mati i el grup tarda, amb una mostra de 1000 registres"
   ]
  },
  {
   "cell_type": "code",
   "execution_count": 235,
   "id": "594c2c07",
   "metadata": {},
   "outputs": [
    {
     "name": "stdout",
     "output_type": "stream",
     "text": [
      "Hi han 1000 registres pel mati\n",
      "Hi han 1000 registres per la tarda\n"
     ]
    }
   ],
   "source": [
    "mati=traf.loc[traf['Mati'] == True].apply(lambda x: x.sample(1000, random_state = 42))\n",
    "tarda=traf.loc[traf['Mati'] == False].apply(lambda x: x.sample(1000, random_state = 42))\n",
    "len_mati=len(mati)\n",
    "len_tarda=len(tarda)\n",
    "print(\"Hi han \" + str(len_mati) + \" registres pel mati\" )\n",
    "print(\"Hi han \" + str(len_tarda) + \" registres per la tarda\" )"
   ]
  },
  {
   "cell_type": "markdown",
   "id": "6083d456",
   "metadata": {},
   "source": [
    "#### Fem servir la prova de Shapiro-Wilk, que prova la hipòtesis nula de que les dades segueixen una distribució normal del grup del mati"
   ]
  },
  {
   "cell_type": "code",
   "execution_count": 236,
   "id": "94beb1eb",
   "metadata": {},
   "outputs": [
    {
     "name": "stdout",
     "output_type": "stream",
     "text": [
      "El valor p es: 0.0\n",
      "La mostra no es normal (o Gaussiana), es refusa la hipòtesis nula H0. Les dades no es distribueixen normalment.\n"
     ]
    }
   ],
   "source": [
    "stat, p_valor = shapiro(mati['Durada'])\n",
    "print(\"El valor p es: \" + str(p_valor))\n",
    "\n",
    "alfa = 0.05\n",
    "if p_valor < alfa:\n",
    "   print('La mostra no es normal (o Gaussiana), es refusa la hipòtesis nula H0. Les dades no es distribueixen normalment.')\n",
    "else:\n",
    "   print('La mostra sembla normal (o Gaussiana), no es refusa la hipótesis nula H0. Los dades es distribueixen normalment.')\n"
   ]
  },
  {
   "cell_type": "markdown",
   "id": "7aaa0102",
   "metadata": {},
   "source": [
    "#### Fem servir la prova de Shapiro-Wilk, que prova la hipòtesis nula de que les dades segueixen una distribució normal del grup de la tarda"
   ]
  },
  {
   "cell_type": "code",
   "execution_count": 237,
   "id": "9a205fad",
   "metadata": {},
   "outputs": [
    {
     "name": "stdout",
     "output_type": "stream",
     "text": [
      "El valor p es: 0.0\n",
      "La mostra no es normal (o Gaussiana), es refusa la hipòtesis nula H0. Les dades no es distribueixen normalment.\n"
     ]
    }
   ],
   "source": [
    "stat, p_valor = shapiro(tarda['Durada'])\n",
    "print(\"El valor p es: \" + str(p_valor))\n",
    "\n",
    "alfa = 0.05\n",
    "if p_valor < alfa:\n",
    "   print('La mostra no es normal (o Gaussiana), es refusa la hipòtesis nula H0. Les dades no es distribueixen normalment.')\n",
    "else:\n",
    "   print('La mostra sembla normal (o Gaussiana), no es refusa la hipótesis nula H0. Los dades es distribueixen normalment.')\n"
   ]
  },
  {
   "cell_type": "markdown",
   "id": "0fc56426",
   "metadata": {},
   "source": [
    "#### Com que la distribució no es normal, fem servir la prova U de Whitney, que permet fer proves d'hipòtesis amb dos mostres no paramètriques"
   ]
  },
  {
   "cell_type": "markdown",
   "id": "faae6422",
   "metadata": {},
   "source": [
    "#### H0 : Prova que la durada de les peticions del mati i de la tarda son diferents"
   ]
  },
  {
   "cell_type": "markdown",
   "id": "d6df59c0",
   "metadata": {},
   "source": [
    "#### H1 : Prova que la durada de les peticions del mati i de la tada son iguals"
   ]
  },
  {
   "cell_type": "code",
   "execution_count": 238,
   "id": "9906c09f",
   "metadata": {},
   "outputs": [
    {
     "name": "stdout",
     "output_type": "stream",
     "text": [
      "El valor p es: 0.9170328146107872\n",
      "No rebutjem la hipòtesi nul·la amb un nivell de confiança del 95%.\n"
     ]
    }
   ],
   "source": [
    "from scipy.stats import ttest_ind\n",
    "\n",
    "stat, p_valor = ttest_ind(mati['Durada'],tarda['Durada'])\n",
    "print(\"El valor p es: \" + str(p_valor))\n",
    "\n",
    "alfa = 0.05\n",
    "if p_valor > alfa:\n",
    "    print('No rebutjem la hipòtesi nul·la amb un nivell de confiança del 95%.')\n",
    "else:\n",
    "    print('Rebutjem la hipòtesi nul·la al nivell de confiança del 95%, acceptem la hipòtesi alternativa')"
   ]
  },
  {
   "cell_type": "markdown",
   "id": "2cf72f61",
   "metadata": {},
   "source": [
    "#### Amb un nivell de significancia del 95% podem refusar la hipòtesis nula de que la la duara de les peticions es diferent del mati envers la tarda"
   ]
  },
  {
   "cell_type": "markdown",
   "id": "74171f0c",
   "metadata": {},
   "source": [
    "#### Ara represemtem la forma de les dades amb un gràfica"
   ]
  },
  {
   "cell_type": "code",
   "execution_count": 239,
   "id": "509e59ed",
   "metadata": {},
   "outputs": [
    {
     "data": {
      "image/png": "[encoded data removed]",
      "text/plain": [
       "<Figure size 720x504 with 1 Axes>"
      ]
     },
     "metadata": {
      "needs_background": "light"
     },
     "output_type": "display_data"
    }
   ],
   "source": [
    "f, ax = plt.subplots(figsize= (10,7))\n",
    "sns.kdeplot(mati['Durada'], label= 'Durada pel mati',\n",
    "color= 'magenta', fill = True, alpha = 0.30, ax=ax)\n",
    "sns.kdeplot(tarda['Durada'], label= 'Durada per la tarda',\n",
    "fill = True, alpha= 0.30,ax=ax)\n",
    "ax.set_xlim((0,2000))\n",
    "plt.title('Durada de les peticions')\n",
    "plt.legend()\n",
    "plt.show()"
   ]
  },
  {
   "cell_type": "markdown",
   "id": "255cc7de",
   "metadata": {},
   "source": [
    "#### Exercici 3"
   ]
  },
  {
   "cell_type": "markdown",
   "id": "72697820",
   "metadata": {},
   "source": [
    "#### Continua amb el conjunt de dades de tema esportiu que t'agradi i selecciona tres atributs del conjunt de dades. Calcula el p-valor i digues si rebutja la hipòtesi nul·la agafant un alfa de 5%"
   ]
  },
  {
   "cell_type": "markdown",
   "id": "db58e141",
   "metadata": {},
   "source": [
    "#### Ara volem provar que la durada de les peticions del mati, de la tarda i de la nit son diferents, així compararem la durada per veure su hi ha una diferencia significativa."
   ]
  },
  {
   "cell_type": "markdown",
   "id": "dfe926ea",
   "metadata": {},
   "source": [
    "#### Afagirem un camp nou al dataset per dividir el dia entre mati, tarda i nit. Agafarem de 10h a 14h com a mati, de 14h a 20h com a tarda i de 20h a 10h com a nit"
   ]
  },
  {
   "cell_type": "code",
   "execution_count": 240,
   "id": "2e809999",
   "metadata": {},
   "outputs": [],
   "source": [
    "def flagger(row):\n",
    "    # 20 a 10 = tall 1\n",
    "    # 10 a 14 = tall 2\n",
    "    # 14 a 20 = tall 3\n",
    "    \n",
    "    t1=10\n",
    "    \n",
    "    _tall=1\n",
    "    if row['Hora']>10 & row['Hora']<=14:\n",
    "        _tall=2\n",
    "    if row['Hora']>14 & row['Hora']<=20:\n",
    "        _tall=3\n",
    "    return _tall\n",
    "\n",
    "traf['tall'] = traf.apply(flagger, axis=1).astype(int)"
   ]
  },
  {
   "cell_type": "markdown",
   "id": "bcdd226c",
   "metadata": {},
   "source": [
    "#### Revisem que el tall de la nit tingui un mínim de mostres."
   ]
  },
  {
   "cell_type": "code",
   "execution_count": 243,
   "id": "a609ee35",
   "metadata": {},
   "outputs": [
    {
     "name": "stdout",
     "output_type": "stream",
     "text": [
      "Tenim 4132 registres al tall de la nit.\n"
     ]
    }
   ],
   "source": [
    "#Revisem que el tall de la nit tingui un minim de mostres\n",
    "tall_nit=traf.loc[traf['tall'] == 1]\n",
    "print(\"Tenim \" +  str(len(tall_nit)) + \" registres al tall de la nit.\")\n"
   ]
  },
  {
   "cell_type": "markdown",
   "id": "69791b20",
   "metadata": {},
   "source": [
    "#### Generem el grup mati, el grup tarda i el grup nit, amb una mostra de 1000 registres"
   ]
  },
  {
   "cell_type": "code",
   "execution_count": 244,
   "id": "d2b606d6",
   "metadata": {},
   "outputs": [
    {
     "name": "stdout",
     "output_type": "stream",
     "text": [
      "Hi han 1000 registres pel mati\n",
      "Hi han 1000 registres per la tarda\n",
      "Hi han 1000 registres per la nit\n"
     ]
    }
   ],
   "source": [
    "tall_mati=traf.loc[traf['tall'] == 2].apply(lambda x: x.sample(1000, random_state = 42))\n",
    "tall_tarda=traf.loc[traf['tall'] == 3].apply(lambda x: x.sample(1000, random_state = 42))\n",
    "tall_nit=traf.loc[traf['tall'] == 1].apply(lambda x: x.sample(1000, random_state = 42))\n",
    "len_tall_mati=len(tall_mati)\n",
    "len_tall_tarda=len(tall_tarda)\n",
    "len_tall_nit=len(tall_nit)\n",
    "print(\"Hi han \" + str(len_tall_mati) + \" registres pel mati\" )\n",
    "print(\"Hi han \" + str(len_tall_tarda) + \" registres per la tarda\" )\n",
    "print(\"Hi han \" + str(len_tall_nit) + \" registres per la nit\" )"
   ]
  },
  {
   "cell_type": "code",
   "execution_count": 245,
   "id": "e5928d64",
   "metadata": {},
   "outputs": [
    {
     "name": "stdout",
     "output_type": "stream",
     "text": [
      "El valor p es: 0.0\n",
      "La mostra no es normal (o Gaussiana), es refusa la hipòtesis nula H0. Les dades no es distribueixen normalment.\n"
     ]
    }
   ],
   "source": [
    "stat, p_valor = shapiro(tall_mati['Durada'])\n",
    "print(\"El valor p es: \" + str(p_valor))\n",
    "\n",
    "alfa = 0.05\n",
    "if p_valor < alfa:\n",
    "   print('La mostra no es normal (o Gaussiana), es refusa la hipòtesis nula H0. Les dades no es distribueixen normalment.')\n",
    "else:\n",
    "   print('La mostra sembla normal (o Gaussiana), no es refusa la hipótesis nula H0. Los dades es distribueixen normalment.')\n"
   ]
  },
  {
   "cell_type": "code",
   "execution_count": 246,
   "id": "ac366e96",
   "metadata": {},
   "outputs": [
    {
     "name": "stdout",
     "output_type": "stream",
     "text": [
      "El valor p es: 8.726738735745157e-34\n",
      "La mostra no es normal (o Gaussiana), es refusa la hipòtesis nula H0. Les dades no es distribueixen normalment.\n"
     ]
    }
   ],
   "source": [
    "stat, p_valor = shapiro(tall_tarda['Durada'])\n",
    "print(\"El valor p es: \" + str(p_valor))\n",
    "\n",
    "alfa = 0.05\n",
    "if p_valor < alfa:\n",
    "   print('La mostra no es normal (o Gaussiana), es refusa la hipòtesis nula H0. Les dades no es distribueixen normalment.')\n",
    "else:\n",
    "   print('La mostra sembla normal (o Gaussiana), no es refusa la hipótesis nula H0. Los dades es distribueixen normalment.')\n"
   ]
  },
  {
   "cell_type": "code",
   "execution_count": 247,
   "id": "ffad804f",
   "metadata": {},
   "outputs": [
    {
     "name": "stdout",
     "output_type": "stream",
     "text": [
      "El valor p es: 0.0\n",
      "La mostra no es normal (o Gaussiana), es refusa la hipòtesis nula H0. Les dades no es distribueixen normalment.\n"
     ]
    }
   ],
   "source": [
    "stat, p_valor = shapiro(tall_nit['Durada'])\n",
    "print(\"El valor p es: \" + str(p_valor))\n",
    "\n",
    "alfa = 0.05\n",
    "if p_valor < alfa:\n",
    "   print('La mostra no es normal (o Gaussiana), es refusa la hipòtesis nula H0. Les dades no es distribueixen normalment.')\n",
    "else:\n",
    "   print('La mostra sembla normal (o Gaussiana), no es refusa la hipótesis nula H0. Los dades es distribueixen normalment.')\n"
   ]
  },
  {
   "cell_type": "markdown",
   "id": "11ae493a",
   "metadata": {},
   "source": [
    "#### Com que la distribució no es normal, fem servir la prova de Friedman, que permet fer proves d'hipòtesis amb tres o mes mostres no paramètriques"
   ]
  },
  {
   "cell_type": "markdown",
   "id": "cc6a8efc",
   "metadata": {},
   "source": [
    "#### H0 : Prova que la durada de les peticions del mati, de la tarda i de la nit son diferents"
   ]
  },
  {
   "cell_type": "markdown",
   "id": "a2d000f7",
   "metadata": {},
   "source": [
    "#### H1 : Prova que la durada de les peticions del mati, de la tadai de la nit  son iguals"
   ]
  },
  {
   "cell_type": "code",
   "execution_count": 249,
   "id": "80e58aaf",
   "metadata": {},
   "outputs": [
    {
     "name": "stdout",
     "output_type": "stream",
     "text": [
      "Rebutjem la hipòtesi nul·la al nivell de confiança del 95%, acceptem la hipòtesi alternativa\n"
     ]
    }
   ],
   "source": [
    "test_stat, p_valor = stats.friedmanchisquare(tall_mati['Durada'],tall_tarda['Durada'],tall_nit['Durada'])\n",
    "alfa = 0.05\n",
    "if p_valor > alfa:\n",
    "    print('No rebutjem la hipòtesi nul·la amb un nivell de confiança del 95%.')\n",
    "else:\n",
    "    print('Rebutjem la hipòtesi nul·la al nivell de confiança del 95%, acceptem la hipòtesi alternativa')"
   ]
  },
  {
   "cell_type": "markdown",
   "id": "a4730719",
   "metadata": {},
   "source": [
    "#### Amb un nivell de significancia del 95% podem refusar la hipòtesis nula de que la la duara de les peticions es diferent del mati envers la tarda i envers la nit"
   ]
  },
  {
   "cell_type": "markdown",
   "id": "b038edd5",
   "metadata": {},
   "source": [
    "#### Ara represemtem la forma de les dades amb un gràfica"
   ]
  },
  {
   "cell_type": "code",
   "execution_count": 250,
   "id": "af238f4f",
   "metadata": {
    "scrolled": true
   },
   "outputs": [
    {
     "data": {
      "image/png": "[encoded data removed]",
      "text/plain": [
       "<Figure size 720x504 with 1 Axes>"
      ]
     },
     "metadata": {
      "needs_background": "light"
     },
     "output_type": "display_data"
    }
   ],
   "source": [
    "f, ax = plt.subplots(figsize= (10,7))\n",
    "sns.kdeplot(tall_mati['Durada'], label= 'Durada pel mati',\n",
    "color= 'magenta', fill = True, alpha = 0.30, ax=ax)\n",
    "sns.kdeplot(tall_tarda['Durada'], label= 'Durada per la tarda',\n",
    "fill = True, alpha= 0.30,ax=ax)\n",
    "sns.kdeplot(tall_nit['Durada'], label= 'Durada per la nit',\n",
    "fill = True, alpha= 0.30,ax=ax)\n",
    "ax.set_xlim((0,2000))\n",
    "#plt.axvline(x= tall_mati['Durada'].mean(), color = 'blue', ls = 'dotted')\n",
    "#plt.axvline(x= tall_tarda['Durada'].mean(), color = 'red', ls = 'dotted')\n",
    "#plt.axvline(x= tall_nit['Durada'].mean(), color = 'green', ls = 'dotted')\n",
    "plt.title('Durada de les peticions')\n",
    "plt.legend()\n",
    "plt.show()"
   ]
  },
  {
   "cell_type": "markdown",
   "id": "c76a10ee",
   "metadata": {},
   "source": [
    "#### Conclusió: La durada de les peticions no canvien en les tres franjes horaries"
   ]
  }
 ],
 "metadata": {
  "kernelspec": {
   "display_name": "Python 3 (ipykernel)",
   "language": "python",
   "name": "python3"
  },
  "language_info": {
   "codemirror_mode": {
    "name": "ipython",
    "version": 3
   },
   "file_extension": ".py",
   "mimetype": "text/x-python",
   "name": "python",
   "nbconvert_exporter": "python",
   "pygments_lexer": "ipython3",
   "version": "3.9.12"
  }
 },
 "nbformat": 4,
 "nbformat_minor": 5
}
